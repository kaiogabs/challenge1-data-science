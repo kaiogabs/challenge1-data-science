{
 "cells": [
  {
   "cell_type": "markdown",
   "id": "2e103608",
   "metadata": {},
   "source": [
    "# Desafio Alura Store — Análise e Recomendação"
   ]
  },
  {
   "cell_type": "markdown",
   "id": "038c20f6",
   "metadata": {},
   "source": [
    "## 0) Carregamento dos dados"
   ]
  },
  {
   "cell_type": "code",
   "execution_count": null,
   "id": "643ad364",
   "metadata": {},
   "outputs": [],
   "source": [
    "\n",
    "import pandas as pd\n",
    "import numpy as np\n",
    "import matplotlib.pyplot as plt\n",
    "\n",
    "# Tenta 3 fontes: pasta local do repo, diretório atual ou RAW do GitHub oficial\n",
    "try:\n",
    "    df1 = pd.read_csv(\"base-de-dados-challenge-1/loja_1.csv\")\n",
    "    df2 = pd.read_csv(\"base-de-dados-challenge-1/loja_2.csv\")\n",
    "    df3 = pd.read_csv(\"base-de-dados-challenge-1/loja_3.csv\")\n",
    "    df4 = pd.read_csv(\"base-de-dados-challenge-1/loja_4.csv\")\n",
    "except Exception:\n",
    "    try:\n",
    "        df1 = pd.read_csv(\"loja_1.csv\"); df2 = pd.read_csv(\"loja_2.csv\"); df3 = pd.read_csv(\"loja_3.csv\"); df4 = pd.read_csv(\"loja_4.csv\")\n",
    "    except Exception:\n",
    "        base = \"https://raw.githubusercontent.com/alura-es-cursos/challenge1-data-science/refs/heads/main/base-de-dados-challenge-1\"\n",
    "        df1 = pd.read_csv(f\"{base}/loja_1.csv\")\n",
    "        df2 = pd.read_csv(f\"{base}/loja_2.csv\")\n",
    "        df3 = pd.read_csv(f\"{base}/loja_3.csv\")\n",
    "        df4 = pd.read_csv(f\"{base}/loja_4.csv\")\n",
    "\n",
    "lojas = {\"Loja 1\": df1, \"Loja 2\": df2, \"Loja 3\": df3, \"Loja 4\": df4}\n",
    "\n",
    "COL_PRECO     = \"Preço\"\n",
    "COL_CATEGORIA = \"Categoria do Produto\"\n",
    "COL_PRODUTO   = \"Produto\"\n",
    "COL_FRETE     = \"Frete\"\n",
    "COL_AVALIACAO = \"Avaliação da compra\"\n",
    "\n",
    "for df in lojas.values():\n",
    "    for c in [COL_PRECO, COL_FRETE, COL_AVALIACAO]:\n",
    "        if c in df.columns:\n",
    "            df[c] = pd.to_numeric(df[c], errors=\"coerce\")\n",
    "\n",
    "for nome, df in lojas.items():\n",
    "    print(nome, df.shape)\n",
    "    display(df.head(3))\n"
   ]
  },
  {
   "cell_type": "markdown",
   "id": "93ebdbdd",
   "metadata": {},
   "source": [
    "## 1) Métricas principais"
   ]
  },
  {
   "cell_type": "code",
   "execution_count": null,
   "id": "56de2995",
   "metadata": {},
   "outputs": [],
   "source": [
    "\n",
    "resumo_df = pd.DataFrame({\n",
    "    \"loja\": list(lojas.keys()),\n",
    "    \"faturamento_total\": [df[COL_PRECO].sum() for df in lojas.values()],\n",
    "    \"media_avaliacao\":  [df[COL_AVALIACAO].mean() for df in lojas.values()],\n",
    "    \"frete_medio\":      [df[COL_FRETE].mean() for df in lojas.values()]\n",
    "}).sort_values(\"faturamento_total\", ascending=False)\n",
    "resumo_df\n"
   ]
  },
  {
   "cell_type": "markdown",
   "id": "575ff189",
   "metadata": {},
   "source": [
    "### Gráfico 1 — Barras (Faturamento por loja)"
   ]
  },
  {
   "cell_type": "code",
   "execution_count": null,
   "id": "19c05621",
   "metadata": {},
   "outputs": [],
   "source": [
    "\n",
    "plt.figure()\n",
    "plt.bar(resumo_df[\"loja\"], resumo_df[\"faturamento_total\"])\n",
    "plt.title(\"Faturamento por Loja\")\n",
    "plt.xlabel(\"Loja\")\n",
    "plt.ylabel(\"Faturamento total\")\n",
    "plt.show()\n"
   ]
  },
  {
   "cell_type": "markdown",
   "id": "9df6f9c3",
   "metadata": {},
   "source": [
    "### Gráfico 2 — Pizza (Participação no faturamento)"
   ]
  },
  {
   "cell_type": "code",
   "execution_count": null,
   "id": "fae48455",
   "metadata": {},
   "outputs": [],
   "source": [
    "\n",
    "plt.figure()\n",
    "plt.pie(resumo_df[\"faturamento_total\"], labels=resumo_df[\"loja\"], autopct=\"%1.1f%%\", startangle=90)\n",
    "plt.title(\"Participação no Faturamento Total\")\n",
    "plt.show()\n"
   ]
  },
  {
   "cell_type": "markdown",
   "id": "4153c0af",
   "metadata": {},
   "source": [
    "## 2) Vendas por categoria (Top 5 por loja)"
   ]
  },
  {
   "cell_type": "code",
   "execution_count": null,
   "id": "fcbeb6aa",
   "metadata": {},
   "outputs": [],
   "source": [
    "\n",
    "for nome, df in lojas.items():\n",
    "    print(f\"\\n== {nome} | Top 5 categorias ==\")\n",
    "    display(df[COL_CATEGORIA].value_counts().head(5))\n"
   ]
  },
  {
   "cell_type": "markdown",
   "id": "f3fcecdc",
   "metadata": {},
   "source": [
    "## 3) Média de avaliação por loja"
   ]
  },
  {
   "cell_type": "code",
   "execution_count": null,
   "id": "ba952b90",
   "metadata": {},
   "outputs": [],
   "source": [
    "\n",
    "pd.Series({n: df[COL_AVALIACAO].mean() for n, df in lojas.items()}, name=\"media_avaliacao\")\n"
   ]
  },
  {
   "cell_type": "markdown",
   "id": "5553a3f2",
   "metadata": {},
   "source": [
    "## 4) Produtos mais e menos vendidos (Top 5 / Bottom 5)"
   ]
  },
  {
   "cell_type": "code",
   "execution_count": null,
   "id": "abea75e1",
   "metadata": {},
   "outputs": [],
   "source": [
    "\n",
    "for nome, df in lojas.items():\n",
    "    vc = df[COL_PRODUTO].value_counts()\n",
    "    print(f\"\\n== {nome} | Top 5 produtos mais vendidos ==\")\n",
    "    display(vc.head(5))\n",
    "    print(f\"== {nome} | 5 menos vendidos ==\")\n",
    "    display(vc.tail(5))\n"
   ]
  },
  {
   "cell_type": "markdown",
   "id": "7de0632d",
   "metadata": {},
   "source": [
    "## 5) Frete médio por loja + Dispersão Preço×Frete"
   ]
  },
  {
   "cell_type": "code",
   "execution_count": null,
   "id": "738a3305",
   "metadata": {},
   "outputs": [],
   "source": [
    "\n",
    "pd.Series({n: df[COL_FRETE].mean() for n, df in lojas.items()}, name=\"frete_medio\")\n"
   ]
  },
  {
   "cell_type": "markdown",
   "id": "f22b05ba",
   "metadata": {},
   "source": [
    "### Gráfico 3 — Dispersão Preço×Frete (Loja 1)"
   ]
  },
  {
   "cell_type": "code",
   "execution_count": null,
   "id": "24e866df",
   "metadata": {},
   "outputs": [],
   "source": [
    "\n",
    "df_exemplo = lojas[\"Loja 1\"]\n",
    "plt.figure()\n",
    "plt.scatter(df_exemplo[COL_PRECO], df_exemplo[COL_FRETE], alpha=0.5)\n",
    "plt.title(\"Dispersão: Preço vs. Frete (Loja 1)\")\n",
    "plt.xlabel(COL_PRECO); plt.ylabel(COL_FRETE)\n",
    "plt.show()\n"
   ]
  },
  {
   "cell_type": "markdown",
   "id": "2418039a",
   "metadata": {},
   "source": [
    "## 6) Relatório final"
   ]
  },
  {
   "cell_type": "markdown",
   "id": "dc600d76",
   "metadata": {},
   "source": [
    "## Relatório Final — Recomendação\n",
    "\n",
    "**Objetivo:** recomendar qual loja o Sr. João deve vender, com base em faturamento, categorias, avaliações, produtos e frete.\n",
    "\n",
    "**Principais métricas**\n",
    "- Loja 1: faturamento R$ 1.534.509,12; avaliação média 3.98; frete médio R$ 34,69\n",
    "- Loja 2: faturamento R$ 1.488.459,06; avaliação média 4.04; frete médio R$ 33,62\n",
    "- Loja 3: faturamento R$ 1.464.025,03; avaliação média 4.05; frete médio R$ 33,07\n",
    "- Loja 4: faturamento R$ 1.384.497,58; avaliação média 4.00; frete médio R$ 31,28\n",
    "\n",
    "**Categorias mais populares (top 1 por loja)**\n",
    "- Loja 1: moveis (465 vendas)\n",
    "- Loja 2: moveis (442 vendas)\n",
    "- Loja 3: moveis (499 vendas)\n",
    "- Loja 4: moveis (480 vendas)\n",
    "\n",
    "**Produtos (exemplos — mais/menos vendidos)**\n",
    "- Loja 1: mais vendido **TV Led UHD 4K** (60); menos vendido **Celular ABXY** (33)\n",
    "- Loja 2: mais vendido **Iniciando em programação** (65); menos vendido **Jogo de tabuleiro** (32)\n",
    "- Loja 3: mais vendido **Kit banquetas** (57); menos vendido **Blocos de montar** (35)\n",
    "- Loja 4: mais vendido **Cama box** (62); menos vendido **Guitarra** (33)\n",
    "\n",
    "**Recomendação:** vender a **Loja 1** (menor desempenho relativo considerando faturamento, avaliação e frete)."
   ]
  }
 ],
 "metadata": {},
 "nbformat": 4,
 "nbformat_minor": 5
}
